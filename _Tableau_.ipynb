{
  "nbformat": 4,
  "nbformat_minor": 0,
  "metadata": {
    "colab": {
      "provenance": [],
      "authorship_tag": "ABX9TyPBvJPFXa74cIG9frRXEVqC",
      "include_colab_link": true
    },
    "kernelspec": {
      "name": "python3",
      "display_name": "Python 3"
    },
    "language_info": {
      "name": "python"
    }
  },
  "cells": [
    {
      "cell_type": "markdown",
      "metadata": {
        "id": "view-in-github",
        "colab_type": "text"
      },
      "source": [
        "<a href=\"https://colab.research.google.com/github/Steveluk270190/Tableau_Project/blob/main/_Tableau_.ipynb\" target=\"_parent\"><img src=\"https://colab.research.google.com/assets/colab-badge.svg\" alt=\"Open In Colab\"/></a>"
      ]
    },
    {
      "cell_type": "code",
      "source": [
        "%%html\n",
        "<iframe src=\"https://public.tableau.com/views/Countriesandrevenuecategory/Sheet1?:showVizHome=no&:embed=true\" width=\"645\" height=\"955\"></iframe>\n"
      ],
      "metadata": {
        "colab": {
          "base_uri": "https://localhost:8080/",
          "height": 1000
        },
        "id": "K9bFC3ELqE4D",
        "outputId": "a7778460-e919-4c43-f50d-37550ae4e4b3"
      },
      "execution_count": 1,
      "outputs": [
        {
          "output_type": "display_data",
          "data": {
            "text/plain": [
              "<IPython.core.display.HTML object>"
            ],
            "text/html": [
              "<iframe src=\"https://public.tableau.com/views/Countriesandrevenuecategory/Sheet1?:showVizHome=no&:embed=true\" width=\"645\" height=\"955\"></iframe>\n"
            ]
          },
          "metadata": {}
        }
      ]
    }
  ]
}